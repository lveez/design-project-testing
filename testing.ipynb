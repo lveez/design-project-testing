{
 "cells": [
  {
   "cell_type": "code",
   "execution_count": 6,
   "metadata": {},
   "outputs": [],
   "source": [
    "import time\n",
    "import numpy as np\n",
    "import tracemalloc\n",
    "from scipy.io import wavfile"
   ]
  },
  {
   "cell_type": "code",
   "execution_count": 2,
   "metadata": {},
   "outputs": [],
   "source": [
    "def pad_zeros_to(input, new_length):\n",
    "    output = np.zeros((new_length,))\n",
    "    output[:input.shape[0]] = input\n",
    "    return output"
   ]
  },
  {
   "cell_type": "code",
   "execution_count": 3,
   "metadata": {},
   "outputs": [],
   "source": [
    "def fft_convolution(input, filter, K=None):\n",
    "    in_size = input.shape[0]\n",
    "    filt_size = filter.shape[0]\n",
    "    out_size = filt_size + in_size - 1\n",
    "\n",
    "    if K is None:\n",
    "        K = 1 << (int(np.log2(Ny-1)) + 1)\n",
    "\n",
    "    X = np.fft.fft(pad_zeros_to(input, K))\n",
    "    H = np.fft.fft(pad_zeros_to(filter, K))\n",
    "\n",
    "    Y = np.multiply(X, H)\n",
    "\n",
    "    out = np.real(np.fft.ifft(Y))\n",
    "\n",
    "    return out[:out_size]"
   ]
  },
  {
   "cell_type": "code",
   "execution_count": 7,
   "metadata": {},
   "outputs": [],
   "source": [
    "def load_wav(file):\n",
    "    data = wavfile.read(file)\n",
    "    # normalize\n",
    "    data = data / max(np.abs(data))\n",
    "    return data"
   ]
  },
  {
   "cell_type": "code",
   "execution_count": null,
   "metadata": {},
   "outputs": [],
   "source": [
    "def overlap_save(input, filter, block_length, K=None):\n",
    "    '''\n",
    "    This partitions both the filter and the input and performs a convolution.\n",
    "    block_length should be a power of 2, and K should be twice the block length\n",
    "    '''\n",
    "    # TODO update so the arrays are 32 bit floats\n",
    "    # pad input it can be split uniformly into blocks\n",
    "    num_input_blocks = np.ceil(len(input)/block_length).astype(int)\n",
    "    padded_input = pad_zeros_to(input, num_input_blocks * block_length)\n",
    "\n",
    "    # pad filter\n",
    "    num_filt_blocks = np.ceil(len(filter)/block_length).astype(int)\n",
    "    padded_filter = pad_zeros_to(filter, num_filt_blocks * block_length)\n",
    "\n",
    "    # doing the convolution\n",
    "    input_buffer = np.zeros((block_length*2,))\n",
    "    buffer = np.zeros((block_length*2,))\n",
    "    output_buffer = np.zeros((block_length*2,))\n",
    "    output = []\n",
    "\n",
    "    # zeropad filters and perform fft on them\n",
    "    sub_filters = np.zeros((num_filt_blocks, block_length*2))\n",
    "    i = 0\n",
    "    for f in sub_filters:\n",
    "        f[:block_length] = padded_filter[i:i+block_length]\n",
    "        i += block_length\n",
    "        f = np.fft.fft(f)\n",
    "\n",
    "    i = 0\n",
    "    while i < block_length * num_input_blocks:\n",
    "        # put B into buffer\n",
    "        input_buffer[:block_length] = input_buffer[block_length:]\n",
    "        input_buffer[block_length:] = padded_input[i:i+block_length]\n",
    "        # perform fft on B\n",
    "        buffer = np.fft.fft(input_buffer)\n",
    "        for f in sub_filters:\n",
    "            output_buffer += np.multiply(buffer, f)\n",
    "        y = np.real(np.fft.ifft(output_buffer))\n",
    "        np.append(output, y[block_length:])\n",
    "\n",
    "    return output\n",
    "        \n",
    "\n",
    "\n",
    "\n",
    "\n",
    "    \n",
    "\n"
   ]
  },
  {
   "cell_type": "code",
   "execution_count": 33,
   "metadata": {},
   "outputs": [
    {
     "name": "stdout",
     "output_type": "stream",
     "text": [
      "[9, 10, 11, 12]\n"
     ]
    }
   ],
   "source": [
    "\n",
    "sub_filters = np.zeros((3, 2*4))\n",
    "a = [1, 2, 3, 4, 5, 6, 7, 8, 9, 10, 11, 12]\n",
    "print(a[8:12])"
   ]
  }
 ],
 "metadata": {
  "kernelspec": {
   "display_name": "Python 3",
   "language": "python",
   "name": "python3"
  },
  "language_info": {
   "codemirror_mode": {
    "name": "ipython",
    "version": 3
   },
   "file_extension": ".py",
   "mimetype": "text/x-python",
   "name": "python",
   "nbconvert_exporter": "python",
   "pygments_lexer": "ipython3",
   "version": "3.11.1"
  },
  "orig_nbformat": 4,
  "vscode": {
   "interpreter": {
    "hash": "d7a7d8513df981dd399e5efaa2d33c50ca2c42dccec3aa82dc50fd62ed97787c"
   }
  }
 },
 "nbformat": 4,
 "nbformat_minor": 2
}
